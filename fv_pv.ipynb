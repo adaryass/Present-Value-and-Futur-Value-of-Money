{
  "nbformat": 4,
  "nbformat_minor": 0,
  "metadata": {
    "colab": {
      "provenance": [],
      "authorship_tag": "ABX9TyPZ4wUQKYzoBGRRTXokusFi",
      "include_colab_link": true
    },
    "kernelspec": {
      "name": "python3",
      "display_name": "Python 3"
    },
    "language_info": {
      "name": "python"
    }
  },
  "cells": [
    {
      "cell_type": "markdown",
      "metadata": {
        "id": "view-in-github",
        "colab_type": "text"
      },
      "source": [
        "<a href=\"https://colab.research.google.com/github/adaryass/Present-Value-and-Futur-Value-of-Money/blob/main/fv_pv.ipynb\" target=\"_parent\"><img src=\"https://colab.research.google.com/assets/colab-badge.svg\" alt=\"Open In Colab\"/></a>"
      ]
    },
    {
      "cell_type": "markdown",
      "source": [
        "## The Time of money\n",
        "The most important concept in finance is that of the time value of money x dollars today is worth more than x dollars in year's time !!!\n",
        "\n",
        "#### Why ?\n",
        "*   Because we may invest it into stocks\n",
        "*   We can lend it to bank for some interest.\n",
        "\n",
        "The value of money decreases over time due to inflation, as rising prices reduce your future purchasing power.\n",
        "\n"
      ],
      "metadata": {
        "id": "odX5QkKUcC27"
      }
    },
    {
      "cell_type": "code",
      "execution_count": 1,
      "metadata": {
        "id": "uI-qPsoDbdBo"
      },
      "outputs": [],
      "source": [
        "from math  import exp"
      ]
    },
    {
      "cell_type": "code",
      "source": [
        "def future_discrete_value(x, r, n):\n",
        "    return x*(1+r)**n\n",
        "\n",
        "def present_discrete_value(x, r, n):\n",
        "    return x*(1+r)**-n\n",
        "\n",
        "\n",
        "def future_continuous_value(x, r, t):\n",
        "    return x*exp(r*t)\n",
        "\n",
        "def present_continuous_value(x, r, t):\n",
        "    return x*exp(-r*t)\n",
        "\n",
        "\n",
        "if __name__ == '__main__':\n",
        "\n",
        "    # Value of investment in dollars\n",
        "    x = 10000\n",
        "    # Define the interest rate (r)\n",
        "    r = 0.05\n",
        "    # Duration (years)\n",
        "    n = 5\n",
        "\n",
        "    print(\"Future Value (discrete model) of x: %s\" % future_discrete_value(x, r, n))\n",
        "    print(\"Present Value (discrete model) of x: %s\" % present_discrete_value(x, r, n))\n",
        "    print(\"Future Value (continuous model) of x: %s\" % future_continuous_value(x, r, n))\n",
        "    print(\"Present Value (continuous model) of x: %s\" % present_continuous_value(x, r, n))\n",
        "\n"
      ],
      "metadata": {
        "colab": {
          "base_uri": "https://localhost:8080/"
        },
        "id": "c6ltXX-qbey3",
        "outputId": "90bafaa5-dd01-437f-a985-0c0f97f1287d"
      },
      "execution_count": 5,
      "outputs": [
        {
          "output_type": "stream",
          "name": "stdout",
          "text": [
            "Future Value (discrete model) of x: 12762.815625000003\n",
            "Present Value (discrete model) of x: 7835.261664684588\n",
            "Future Value (continuous model) of x: 12840.254166877414\n",
            "Present Value (continuous model) of x: 7788.007830714048\n"
          ]
        }
      ]
    }
  ]
}